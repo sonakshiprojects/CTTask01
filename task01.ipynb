{
 "cells": [
  {
   "cell_type": "markdown",
   "id": "f601f43b",
   "metadata": {},
   "source": [
    "TASK 1 BIG DATA ANALYSIS "
   ]
  },
  {
   "cell_type": "code",
   "execution_count": 1,
   "id": "2aab235d",
   "metadata": {},
   "outputs": [
    {
     "name": "stdout",
     "output_type": "stream",
     "text": [
      "+-------------------+-------------------+-------------+--------------------+-----------+------------+-----------------+-------------+-----+-----+--------------------------+------------------------+----------------+-----------------------+-------------+--------------+-------------+--------------+---------------+--------------+\n",
      "|               Date|               Time|   Booking_ID|      Booking_Status|Customer_ID|Vehicle_Type|  Pickup_Location|Drop_Location|V_TAT|C_TAT|Canceled_Rides_by_Customer|Canceled_Rides_by_Driver|Incomplete_Rides|Incomplete_Rides_Reason|Booking_Value|Payment_Method|Ride_Distance|Driver_Ratings|Customer_Rating|Vehicle Images|\n",
      "+-------------------+-------------------+-------------+--------------------+-----------+------------+-----------------+-------------+-----+-----+--------------------------+------------------------+----------------+-----------------------+-------------+--------------+-------------+--------------+---------------+--------------+\n",
      "|2024-07-26 14:00:00|2025-06-01 14:00:00|CNR7153255142|  Canceled by Driver|  CID713523| Prime Sedan|      Tumkur Road|     RT Nagar| null| null|                      null|    Personal & Car re...|            null|                   null|          444|          null|            0|          null|           null|        #NAME?|\n",
      "|2024-07-25 22:20:00|2025-06-01 22:20:00|CNR2940424040|             Success|  CID225428|        Bike|      Magadi Road|      Varthur|  203|   30|                      null|                    null|              No|                   null|          158|          Cash|           13|           4.1|              4|        #NAME?|\n",
      "|2024-07-30 19:59:00|2025-06-01 19:59:00|CNR2982357879|             Success|  CID270156|   Prime SUV|    Sahakar Nagar|      Varthur|  238|  130|                      null|                    null|              No|                   null|          386|           UPI|           40|           4.2|            4.8|        #NAME?|\n",
      "|2024-07-22 03:15:00|2025-06-01 03:15:00|CNR2395710036|Canceled by Customer|  CID581320|       eBike|       HSR Layout|  Vijayanagar| null| null|      Driver is not mov...|                    null|            null|                   null|          384|          null|            0|          null|           null|        #NAME?|\n",
      "|2024-07-02 09:02:00|2025-06-01 09:02:00|CNR1797421769|             Success|  CID939555|        Mini|      Rajajinagar|  Chamarajpet|  252|   80|                      null|                    null|              No|                   null|          822|   Credit Card|           45|             4|              3|        #NAME?|\n",
      "|2024-07-13 04:42:00|2025-06-01 04:42:00|CNR8787177882|             Success|  CID802429|        Mini|         Kadugodi|  Vijayanagar|  231|   90|                      null|                    null|              No|                   null|          173|           UPI|           41|           3.4|            4.6|        #NAME?|\n",
      "|2024-07-23 09:51:00|2025-06-01 09:51:00|CNR3612067560|             Success|  CID476071|        Bike|      Tumkur Road|   Whitefield|  133|   40|                      null|                    null|              No|                   null|          140|          Cash|           49|           3.2|            4.5|        #NAME?|\n",
      "|2024-07-11 11:12:00|2025-06-01 11:12:00|CNR5374902489|  Canceled by Driver|  CID735691|  Prime Plus|Bannerghatta Road|Sarjapur Road| null| null|                      null|    Personal & Car re...|            null|                   null|          344|          null|            0|          null|           null|        #NAME?|\n",
      "|2024-07-01 19:19:00|2025-06-01 19:19:00|CNR5030602354|    Driver Not Found|  CID999840|        Mini|      Chamarajpet|       Peenya| null| null|                      null|                    null|            null|                   null|          839|          null|            0|          null|           null|        #NAME?|\n",
      "|2024-07-18 01:31:00|2025-06-01 01:31:00|CNR6328453219|  Canceled by Driver|  CID907133|        Auto|         RT Nagar|      Varthur| null| null|                      null|    Personal & Car re...|            null|                   null|          893|          null|            0|          null|           null|        #NAME?|\n",
      "|2024-07-29 23:33:00|2025-06-01 23:33:00|CNR4787583516|             Success|  CID923404|  Prime Plus|       Hosur Road|    Jayanagar|   35|   55|                      null|                    null|              No|                   null|          164|          Cash|           46|           4.5|            3.4|        #NAME?|\n",
      "|2024-07-26 04:03:00|2025-06-01 04:03:00|CNR7943634301|             Success|  CID647026|  Prime Plus|     Kammanahalli|  Rajajinagar|  238|   95|                      null|                    null|              No|                   null|          399|          Cash|           18|           3.9|            4.4|        #NAME?|\n",
      "|2024-07-27 13:18:00|2025-06-01 13:18:00|CNR4524472111|             Success|  CID540929|        Auto|         Cox Town|    Yelahanka|  126|   35|                      null|                    null|              No|                   null|          330|           UPI|            8|             3|            4.8|        #NAME?|\n",
      "|2024-07-17 18:55:00|2025-06-01 18:55:00|CNR3914552212|  Canceled by Driver|  CID557845|        Auto|       Hosur Road| Banashankari| null| null|                      null|    Personal & Car re...|            null|                   null|          427|          null|            0|          null|           null|        #NAME?|\n",
      "|2024-07-16 09:54:00|2025-06-01 09:54:00|CNR8181602032|             Success|  CID167642|        Bike|      Indiranagar|      MG Road|   70|   95|                      null|                    null|              No|                   null|          378|           UPI|           18|           4.8|            4.1|        #NAME?|\n",
      "|2024-07-02 10:25:00|2025-06-01 10:25:00|CNR8090918544|             Success|  CID640151|        Bike|      Magadi Road|   HSR Layout|  126|   95|                      null|                    null|              No|                   null|          343|           UPI|           23|           3.7|            3.6|        #NAME?|\n",
      "|2024-07-02 23:50:00|2025-06-01 23:50:00|CNR3211335290|    Driver Not Found|  CID630354|        Mini| Ramamurthy Nagar|   BTM Layout| null| null|                      null|                    null|            null|                   null|          366|          null|            0|          null|           null|        #NAME?|\n",
      "|2024-07-05 23:42:00|2025-06-01 23:42:00|CNR3196156650|             Success|  CID243275|        Bike|  Electronic City|Langford Town|  140|   40|                      null|                    null|              No|                   null|          401|          Cash|            8|           3.3|            3.9|        #NAME?|\n",
      "|2024-07-09 11:11:00|2025-06-01 11:11:00|CNR9975925287|             Success|  CID162055|   Prime SUV|      Magadi Road|     RT Nagar|   42|   30|                      null|                    null|              No|                   null|          343|           UPI|           17|             3|            3.8|        #NAME?|\n",
      "|2024-07-12 14:44:00|2025-06-01 14:44:00|CNR1591113431|             Success|  CID902781|       eBike|      Koramangala|Sarjapur Road|  245|   70|                      null|                    null|              No|                   null|         2014|          Cash|           33|           4.2|            4.9|        #NAME?|\n",
      "+-------------------+-------------------+-------------+--------------------+-----------+------------+-----------------+-------------+-----+-----+--------------------------+------------------------+----------------+-----------------------+-------------+--------------+-------------+--------------+---------------+--------------+\n",
      "only showing top 20 rows\n",
      "\n",
      "None\n"
     ]
    }
   ],
   "source": [
    "# import SparkSession\n",
    "from pyspark.sql import SparkSession\n",
    "\n",
    "spark = SparkSession.builder \\\n",
    "    .appName(\"BigDataAnalysis\") \\\n",
    "    .getOrCreate()\n",
    "#use dataset  \n",
    "file_path = \"C:/Users/sonak/Downloads/Bookings-100000-Rows.csv\"\n",
    "df = spark.read.csv(file_path, header=True, inferSchema=True)\n",
    "print(df.show())"
   ]
  }
 ],
 "metadata": {
  "kernelspec": {
   "display_name": "Python 3",
   "language": "python",
   "name": "python3"
  },
  "language_info": {
   "codemirror_mode": {
    "name": "ipython",
    "version": 3
   },
   "file_extension": ".py",
   "mimetype": "text/x-python",
   "name": "python",
   "nbconvert_exporter": "python",
   "pygments_lexer": "ipython3",
   "version": "3.13.1"
  }
 },
 "nbformat": 4,
 "nbformat_minor": 5
}
