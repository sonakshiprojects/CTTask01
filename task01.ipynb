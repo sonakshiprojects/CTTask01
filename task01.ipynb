{
 "cells": [
  {
   "cell_type": "markdown",
   "id": "f601f43b",
   "metadata": {},
   "source": [
    "TASK 1 BIG DATA ANALYSIS "
   ]
  }
 ],
 "metadata": {
  "language_info": {
   "name": "python"
  }
 },
 "nbformat": 4,
 "nbformat_minor": 5
}
