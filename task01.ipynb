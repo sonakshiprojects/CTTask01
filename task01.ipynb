{
 "cells": [
  {
   "cell_type": "markdown",
   "id": "f601f43b",
   "metadata": {},
   "source": [
    "TASK 1 BIG DATA ANALYSIS "
   ]
  },
  {
   "cell_type": "code",
   "execution_count": 1,
   "id": "2aab235d",
   "metadata": {},
   "outputs": [
    {
     "name": "stdout",
     "output_type": "stream",
     "text": [
      "+-------------------+-------------------+-------------+--------------------+-----------+------------+-----------------+-------------+-----+-----+--------------------------+------------------------+----------------+-----------------------+-------------+--------------+-------------+--------------+---------------+--------------+\n",
      "|               Date|               Time|   Booking_ID|      Booking_Status|Customer_ID|Vehicle_Type|  Pickup_Location|Drop_Location|V_TAT|C_TAT|Canceled_Rides_by_Customer|Canceled_Rides_by_Driver|Incomplete_Rides|Incomplete_Rides_Reason|Booking_Value|Payment_Method|Ride_Distance|Driver_Ratings|Customer_Rating|Vehicle Images|\n",
      "+-------------------+-------------------+-------------+--------------------+-----------+------------+-----------------+-------------+-----+-----+--------------------------+------------------------+----------------+-----------------------+-------------+--------------+-------------+--------------+---------------+--------------+\n",
      "|2024-07-26 14:00:00|2025-06-01 14:00:00|CNR7153255142|  Canceled by Driver|  CID713523| Prime Sedan|      Tumkur Road|     RT Nagar| null| null|                      null|    Personal & Car re...|            null|                   null|          444|          null|            0|          null|           null|        #NAME?|\n",
      "|2024-07-25 22:20:00|2025-06-01 22:20:00|CNR2940424040|             Success|  CID225428|        Bike|      Magadi Road|      Varthur|  203|   30|                      null|                    null|              No|                   null|          158|          Cash|           13|           4.1|              4|        #NAME?|\n",
      "|2024-07-30 19:59:00|2025-06-01 19:59:00|CNR2982357879|             Success|  CID270156|   Prime SUV|    Sahakar Nagar|      Varthur|  238|  130|                      null|                    null|              No|                   null|          386|           UPI|           40|           4.2|            4.8|        #NAME?|\n",
      "|2024-07-22 03:15:00|2025-06-01 03:15:00|CNR2395710036|Canceled by Customer|  CID581320|       eBike|       HSR Layout|  Vijayanagar| null| null|      Driver is not mov...|                    null|            null|                   null|          384|          null|            0|          null|           null|        #NAME?|\n",
      "|2024-07-02 09:02:00|2025-06-01 09:02:00|CNR1797421769|             Success|  CID939555|        Mini|      Rajajinagar|  Chamarajpet|  252|   80|                      null|                    null|              No|                   null|          822|   Credit Card|           45|             4|              3|        #NAME?|\n",
      "|2024-07-13 04:42:00|2025-06-01 04:42:00|CNR8787177882|             Success|  CID802429|        Mini|         Kadugodi|  Vijayanagar|  231|   90|                      null|                    null|              No|                   null|          173|           UPI|           41|           3.4|            4.6|        #NAME?|\n",
      "|2024-07-23 09:51:00|2025-06-01 09:51:00|CNR3612067560|             Success|  CID476071|        Bike|      Tumkur Road|   Whitefield|  133|   40|                      null|                    null|              No|                   null|          140|          Cash|           49|           3.2|            4.5|        #NAME?|\n",
      "|2024-07-11 11:12:00|2025-06-01 11:12:00|CNR5374902489|  Canceled by Driver|  CID735691|  Prime Plus|Bannerghatta Road|Sarjapur Road| null| null|                      null|    Personal & Car re...|            null|                   null|          344|          null|            0|          null|           null|        #NAME?|\n",
      "|2024-07-01 19:19:00|2025-06-01 19:19:00|CNR5030602354|    Driver Not Found|  CID999840|        Mini|      Chamarajpet|       Peenya| null| null|                      null|                    null|            null|                   null|          839|          null|            0|          null|           null|        #NAME?|\n",
      "|2024-07-18 01:31:00|2025-06-01 01:31:00|CNR6328453219|  Canceled by Driver|  CID907133|        Auto|         RT Nagar|      Varthur| null| null|                      null|    Personal & Car re...|            null|                   null|          893|          null|            0|          null|           null|        #NAME?|\n",
      "|2024-07-29 23:33:00|2025-06-01 23:33:00|CNR4787583516|             Success|  CID923404|  Prime Plus|       Hosur Road|    Jayanagar|   35|   55|                      null|                    null|              No|                   null|          164|          Cash|           46|           4.5|            3.4|        #NAME?|\n",
      "|2024-07-26 04:03:00|2025-06-01 04:03:00|CNR7943634301|             Success|  CID647026|  Prime Plus|     Kammanahalli|  Rajajinagar|  238|   95|                      null|                    null|              No|                   null|          399|          Cash|           18|           3.9|            4.4|        #NAME?|\n",
      "|2024-07-27 13:18:00|2025-06-01 13:18:00|CNR4524472111|             Success|  CID540929|        Auto|         Cox Town|    Yelahanka|  126|   35|                      null|                    null|              No|                   null|          330|           UPI|            8|             3|            4.8|        #NAME?|\n",
      "|2024-07-17 18:55:00|2025-06-01 18:55:00|CNR3914552212|  Canceled by Driver|  CID557845|        Auto|       Hosur Road| Banashankari| null| null|                      null|    Personal & Car re...|            null|                   null|          427|          null|            0|          null|           null|        #NAME?|\n",
      "|2024-07-16 09:54:00|2025-06-01 09:54:00|CNR8181602032|             Success|  CID167642|        Bike|      Indiranagar|      MG Road|   70|   95|                      null|                    null|              No|                   null|          378|           UPI|           18|           4.8|            4.1|        #NAME?|\n",
      "|2024-07-02 10:25:00|2025-06-01 10:25:00|CNR8090918544|             Success|  CID640151|        Bike|      Magadi Road|   HSR Layout|  126|   95|                      null|                    null|              No|                   null|          343|           UPI|           23|           3.7|            3.6|        #NAME?|\n",
      "|2024-07-02 23:50:00|2025-06-01 23:50:00|CNR3211335290|    Driver Not Found|  CID630354|        Mini| Ramamurthy Nagar|   BTM Layout| null| null|                      null|                    null|            null|                   null|          366|          null|            0|          null|           null|        #NAME?|\n",
      "|2024-07-05 23:42:00|2025-06-01 23:42:00|CNR3196156650|             Success|  CID243275|        Bike|  Electronic City|Langford Town|  140|   40|                      null|                    null|              No|                   null|          401|          Cash|            8|           3.3|            3.9|        #NAME?|\n",
      "|2024-07-09 11:11:00|2025-06-01 11:11:00|CNR9975925287|             Success|  CID162055|   Prime SUV|      Magadi Road|     RT Nagar|   42|   30|                      null|                    null|              No|                   null|          343|           UPI|           17|             3|            3.8|        #NAME?|\n",
      "|2024-07-12 14:44:00|2025-06-01 14:44:00|CNR1591113431|             Success|  CID902781|       eBike|      Koramangala|Sarjapur Road|  245|   70|                      null|                    null|              No|                   null|         2014|          Cash|           33|           4.2|            4.9|        #NAME?|\n",
      "+-------------------+-------------------+-------------+--------------------+-----------+------------+-----------------+-------------+-----+-----+--------------------------+------------------------+----------------+-----------------------+-------------+--------------+-------------+--------------+---------------+--------------+\n",
      "only showing top 20 rows\n",
      "\n",
      "None\n"
     ]
    }
   ],
   "source": [
    "# import SparkSession\n",
    "from pyspark.sql import SparkSession\n",
    "\n",
    "spark = SparkSession.builder \\\n",
    "    .appName(\"BigDataAnalysis\") \\\n",
    "    .getOrCreate()\n",
    "#use dataset  \n",
    "file_path = \"C:/Users/sonak/Downloads/Bookings-100000-Rows.csv\"\n",
    "df = spark.read.csv(file_path, header=True, inferSchema=True)\n",
    "print(df.show())"
   ]
  },
  {
   "cell_type": "code",
   "execution_count": 3,
   "id": "270ef14d",
   "metadata": {},
   "outputs": [],
   "source": [
    "#check columns\n",
    "columns_to_check = [\n",
    "    \"Date\", \"Time\", \"Booking_ID\", \"Booking_Status\", \"Customer_ID\",\n",
    "    \"Vehicle_Type\", \"Pickup_Location\", \"Drop_Location\", \"V_TAT\", \"C_TAT\",\n",
    "    \"Canceled_Rides_by_Customer\", \"Canceled_Rides_by_Driver\", \"Incomplete_Rides\",\n",
    "    \"Incomplete_Rides_Reason\", \"Booking_Value\", \"Payment_Method\", \"Ride_Distance\",\n",
    "    \"Driver_Ratings\", \"Customer_Rating\", \"Vehicle Images\"\n",
    "]\n",
    "df = df.dropna(subset=columns_to_check)\n",
    "df = df.dropDuplicates()"
   ]
  },
  {
   "cell_type": "code",
   "execution_count": 4,
   "id": "c48ce512",
   "metadata": {},
   "outputs": [],
   "source": [
    "from pyspark.sql.functions import to_date,col\n",
    "df=df.withColumn(\"Booking_Date\", to_date(col(\"Date\"), \"yyyy-MM-dd\"))\n",
    "# Convert numeric columns to float\n",
    "numeric_cols = [\"Booking_Value\", \"Ride_Distance\", \"Driver_Ratings\", \"Customer_Rating\"]\n",
    "for col_name in numeric_cols:\n",
    "    df=df.withColumn(col_name, col(col_name).cast(\"float\"))"
   ]
  },
  {
   "cell_type": "markdown",
   "id": "f48b0cae",
   "metadata": {},
   "source": [
    "1. Total Booking Value (Revenue)"
   ]
  },
  {
   "cell_type": "code",
   "execution_count": 5,
   "id": "0264e5be",
   "metadata": {},
   "outputs": [
    {
     "name": "stdout",
     "output_type": "stream",
     "text": [
      "+-------------+\n",
      "|Total_Revenue|\n",
      "+-------------+\n",
      "|  5.6534614E7|\n",
      "+-------------+\n",
      "\n"
     ]
    }
   ],
   "source": [
    "df.selectExpr(\"sum(Booking_Value) as Total_Revenue\").show()"
   ]
  },
  {
   "cell_type": "markdown",
   "id": "01be4f43",
   "metadata": {},
   "source": [
    "2. Average Driver Rating and Average Customer Rating"
   ]
  },
  {
   "cell_type": "code",
   "execution_count": 6,
   "id": "55f2c38c",
   "metadata": {},
   "outputs": [
    {
     "name": "stdout",
     "output_type": "stream",
     "text": [
      "+------------------+-------------------+\n",
      "| Avg_Driver_Rating|Avg_Customer_Rating|\n",
      "+------------------+-------------------+\n",
      "|3.9974565002397813|  3.998313193677773|\n",
      "+------------------+-------------------+\n",
      "\n"
     ]
    }
   ],
   "source": [
    "df.selectExpr(\"avg(Driver_Ratings) as Avg_Driver_Rating\", \"avg(Customer_Rating) as Avg_Customer_Rating\").show()"
   ]
  },
  {
   "cell_type": "markdown",
   "id": "c3f3cf40",
   "metadata": {},
   "source": [
    "3. Top 10 Pickup Locations with Count"
   ]
  },
  {
   "cell_type": "code",
   "execution_count": 7,
   "id": "3f231566",
   "metadata": {},
   "outputs": [
    {
     "name": "stdout",
     "output_type": "stream",
     "text": [
      "+----------------+-----+\n",
      "| Pickup_Location|count|\n",
      "+----------------+-----+\n",
      "|    Banashankari| 2201|\n",
      "|    Yeshwanthpur| 2139|\n",
      "|        RT Nagar| 2135|\n",
      "|     Indiranagar| 2133|\n",
      "|   Sahakar Nagar| 2126|\n",
      "|    Basavanagudi| 2120|\n",
      "|Ramamurthy Nagar| 2116|\n",
      "|     Vijayanagar| 2113|\n",
      "|     Tumkur Road| 2105|\n",
      "|        Cox Town| 2100|\n",
      "+----------------+-----+\n",
      "only showing top 10 rows\n",
      "\n"
     ]
    }
   ],
   "source": [
    "df.groupBy(\"Pickup_Location\").count().orderBy(\"count\", ascending=False).show(10)"
   ]
  },
  {
   "cell_type": "markdown",
   "id": "78e7bc08",
   "metadata": {},
   "source": [
    "4. Canceled rides by customer and driver"
   ]
  },
  {
   "cell_type": "code",
   "execution_count": 8,
   "id": "e9437f63",
   "metadata": {},
   "outputs": [
    {
     "name": "stdout",
     "output_type": "stream",
     "text": [
      "+--------------------------+------------------------+-----+\n",
      "|Canceled_Rides_by_Customer|Canceled_Rides_by_Driver|count|\n",
      "+--------------------------+------------------------+-----+\n",
      "|                      null|    Customer was coug...| 3654|\n",
      "|           Change of plans|                    null| 2081|\n",
      "|             Wrong Address|                    null| 1005|\n",
      "|      Driver is not mov...|                    null| 3175|\n",
      "|                      null|    Customer related ...| 5413|\n",
      "|         AC is Not working|                    null| 1568|\n",
      "|                      null|    More than permitt...| 2825|\n",
      "|                      null|    Personal & Car re...| 6542|\n",
      "|                      null|                    null|74091|\n",
      "|      Driver asked to c...|                    null| 2670|\n",
      "+--------------------------+------------------------+-----+\n",
      "\n"
     ]
    }
   ],
   "source": [
    "df.groupBy(\"Canceled_Rides_by_Customer\", \"Canceled_Rides_by_Driver\").count().show()"
   ]
  },
  {
   "cell_type": "markdown",
   "id": "c140f483",
   "metadata": {},
   "source": [
    "5. Reason for incomplete rides"
   ]
  },
  {
   "cell_type": "code",
   "execution_count": 9,
   "id": "29d361e5",
   "metadata": {},
   "outputs": [
    {
     "name": "stdout",
     "output_type": "stream",
     "text": [
      "+-----------------------+-----+\n",
      "|Incomplete_Rides_Reason|count|\n",
      "+-----------------------+-----+\n",
      "|                   null|99098|\n",
      "|        Customer Demand| 1601|\n",
      "|      Vehicle Breakdown| 1591|\n",
      "|            Other Issue|  734|\n",
      "+-----------------------+-----+\n",
      "\n"
     ]
    }
   ],
   "source": [
    "df.groupBy(\"Incomplete_Rides_Reason\").count().orderBy(\"count\", ascending=False).show()"
   ]
  },
  {
   "cell_type": "markdown",
   "id": "ac7aaa0b",
   "metadata": {},
   "source": [
    "6. Vehicle Type"
   ]
  },
  {
   "cell_type": "code",
   "execution_count": 10,
   "id": "e2e1bf39",
   "metadata": {},
   "outputs": [
    {
     "name": "stdout",
     "output_type": "stream",
     "text": [
      "+------------+-----+\n",
      "|Vehicle_Type|count|\n",
      "+------------+-----+\n",
      "| Prime Sedan|14877|\n",
      "|       eBike|14816|\n",
      "|        Auto|14755|\n",
      "|  Prime Plus|14707|\n",
      "|        Bike|14662|\n",
      "|   Prime SUV|14655|\n",
      "|        Mini|14552|\n",
      "+------------+-----+\n",
      "\n"
     ]
    }
   ],
   "source": [
    "df.groupBy(\"Vehicle_Type\").count().orderBy(\"count\", ascending=False).show()"
   ]
  },
  {
   "cell_type": "markdown",
   "id": "44eea075",
   "metadata": {},
   "source": [
    "7. Add monthly and yearly booking count using PySpark"
   ]
  },
  {
   "cell_type": "code",
   "execution_count": 12,
   "id": "f7b20b7f",
   "metadata": {},
   "outputs": [
    {
     "name": "stdout",
     "output_type": "stream",
     "text": [
      "+----+-----+------+\n",
      "|Year|Month| count|\n",
      "+----+-----+------+\n",
      "|2024|    7|103024|\n",
      "+----+-----+------+\n",
      "\n"
     ]
    }
   ],
   "source": [
    "from pyspark.sql.functions import month, year\n",
    "df = df.withColumn(\"Month\", month(col(\"Booking_Date\")))\n",
    "df = df.withColumn(\"Year\", year(col(\"Booking_Date\")))\n",
    "df.groupBy(\"Year\", \"Month\").count().orderBy(\"Year\", \"Month\").show()"
   ]
  },
  {
   "cell_type": "markdown",
   "id": "e6903689",
   "metadata": {},
   "source": [
    "Plots"
   ]
  },
  {
   "cell_type": "code",
   "execution_count": 2,
   "id": "592356e2",
   "metadata": {},
   "outputs": [
    {
     "name": "stdout",
     "output_type": "stream",
     "text": [
      "Missing Pickup_Location: 0\n",
      "Total rows before cleaning: 103024\n",
      "Top Pickup Locations:\n",
      "     Pickup_Location  Count\n",
      "0      Banashankari   2201\n",
      "1      Yeshwanthpur   2139\n",
      "2          RT Nagar   2135\n",
      "3       Indiranagar   2133\n",
      "4     Sahakar Nagar   2126\n",
      "5      Basavanagudi   2120\n",
      "6  Ramamurthy Nagar   2116\n",
      "7       Vijayanagar   2113\n",
      "8       Tumkur Road   2105\n",
      "9          Cox Town   2100\n"
     ]
    },
    {
     "name": "stderr",
     "output_type": "stream",
     "text": [
      "C:\\Users\\sonak\\AppData\\Local\\Temp\\ipykernel_100\\4254307747.py:35: FutureWarning: \n",
      "\n",
      "Passing `palette` without assigning `hue` is deprecated and will be removed in v0.14.0. Assign the `y` variable to `hue` and set `legend=False` for the same effect.\n",
      "\n",
      "  sns.barplot(data=top_pickup, x=\"Count\", y=\"Pickup_Location\", palette=\"viridis\")\n"
     ]
    },
    {
     "data": {
      "image/png": "[encoded data removed]",
      "text/plain": [
       "<Figure size 1000x600 with 1 Axes>"
      ]
     },
     "metadata": {},
     "output_type": "display_data"
    }
   ],
   "source": [
    "# Step 1: Import necessary libraries\n",
    "import pandas as pd\n",
    "import matplotlib.pyplot as plt\n",
    "import seaborn as sns\n",
    "\n",
    "# Display plots \n",
    "%matplotlib inline\n",
    "\n",
    "# Step 2: Load the dataset\n",
    "df_raw = pd.read_csv(\"C:/Users/sonak/Downloads/Bookings-100000-Rows.csv\")\n",
    "\n",
    "# Step 3: Check how many missing values are in Pickup_Location\n",
    "print(\"Missing Pickup_Location:\", df_raw[\"Pickup_Location\"].isna().sum())\n",
    "print(\"Total rows before cleaning:\", df_raw.shape[0])\n",
    "\n",
    "# Step 4: Only drop rows where Pickup_Location is missing (gentle cleaning)\n",
    "df = df_raw.dropna(subset=[\"Pickup_Location\"]).copy()\n",
    "\n",
    "# clean whitespace in text columns\n",
    "df[\"Pickup_Location\"] = df[\"Pickup_Location\"].astype(str).str.strip()\n",
    "\n",
    "# Step 5: Basic preprocessing (convert Date to datetime)\n",
    "df[\"Date\"] = pd.to_datetime(df[\"Date\"], errors='coerce')\n",
    "df[\"Year\"] = df[\"Date\"].dt.year\n",
    "df[\"Month\"] = df[\"Date\"].dt.month\n",
    "\n",
    "# Step 6: Value counts for top pickup locations\n",
    "top_pickup = df[\"Pickup_Location\"].value_counts().nlargest(10).reset_index()\n",
    "top_pickup.columns = [\"Pickup_Location\", \"Count\"]\n",
    "\n",
    "print(\"Top Pickup Locations:\\n\", top_pickup)\n",
    "\n",
    "# Step 7: Plot Top 10 Pickup Locations\n",
    "plt.figure(figsize=(10, 6))\n",
    "sns.barplot(data=top_pickup, x=\"Count\", y=\"Pickup_Location\", palette=\"viridis\")\n",
    "plt.title(\"Top 10 Pickup Locations\")\n",
    "plt.xlabel(\"Number of Bookings\")\n",
    "plt.ylabel(\"Pickup Location\")\n",
    "plt.tight_layout()\n",
    "plt.show()\n"
   ]
  },
  {
   "cell_type": "code",
   "execution_count": 3,
   "id": "832050a1",
   "metadata": {},
   "outputs": [],
   "source": [
    "import pandas as pd\n",
    "import matplotlib.pyplot as plt\n",
    "import seaborn as sns\n",
    "%matplotlib inline\n",
    "# Load dataset\n",
    "df_raw = pd.read_csv(\"C:/Users/sonak/Downloads/Bookings-100000-Rows.csv\")\n",
    "df = df_raw.dropna(subset=[\"Pickup_Location\"]).copy()\n",
    "df[\"Pickup_Location\"] = df[\"Pickup_Location\"].astype(str).str.strip()\n",
    "df[\"Drop_Location\"] = df[\"Drop_Location\"].astype(str).str.strip()\n",
    "df[\"Date\"] = pd.to_datetime(df[\"Date\"], errors='coerce')\n",
    "df[\"Month\"] = df[\"Date\"].dt.to_period(\"M\")"
   ]
  },
  {
   "cell_type": "markdown",
   "id": "85fdd96c",
   "metadata": {},
   "source": [
    "Monthly Ride Volume"
   ]
  },
  {
   "cell_type": "code",
   "execution_count": 4,
   "id": "d913a31c",
   "metadata": {},
   "outputs": [
    {
     "data": {
      "image/png": "[encoded data removed]",
      "text/plain": [
       "<Figure size 1200x600 with 1 Axes>"
      ]
     },
     "metadata": {},
     "output_type": "display_data"
    }
   ],
   "source": [
    "monthly_counts = df[\"Month\"].value_counts().sort_index()\n",
    "plt.figure(figsize=(12, 6))\n",
    "monthly_counts.plot(kind=\"bar\", color=\"skyblue\")\n",
    "plt.title(\"Monthly Ride Volume\")\n",
    "plt.xlabel(\"Month\")\n",
    "plt.ylabel(\"Number of Rides\")\n",
    "plt.xticks(rotation=45)\n",
    "plt.tight_layout()\n",
    "plt.show()"
   ]
  }
 ],
 "metadata": {
  "kernelspec": {
   "display_name": "Python 3",
   "language": "python",
   "name": "python3"
  },
  "language_info": {
   "codemirror_mode": {
    "name": "ipython",
    "version": 3
   },
   "file_extension": ".py",
   "mimetype": "text/x-python",
   "name": "python",
   "nbconvert_exporter": "python",
   "pygments_lexer": "ipython3",
   "version": "3.13.1"
  }
 },
 "nbformat": 4,
 "nbformat_minor": 5
}
